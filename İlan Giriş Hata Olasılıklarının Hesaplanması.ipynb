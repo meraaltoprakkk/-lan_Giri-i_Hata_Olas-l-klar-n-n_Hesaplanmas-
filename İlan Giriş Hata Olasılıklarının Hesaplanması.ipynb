{
 "cells": [
  {
   "cell_type": "code",
   "execution_count": 1,
   "id": "f85ed8c0-2cef-4024-9503-224341af0660",
   "metadata": {},
   "outputs": [],
   "source": [
    "# İŞ UYGULAMASI : İlan Girişi Hata Olasıklıklarının Hesaplanması"
   ]
  },
  {
   "cell_type": "code",
   "execution_count": 2,
   "id": "74fb19b6-42bc-48a6-8dd8-7335c732db4b",
   "metadata": {},
   "outputs": [],
   "source": [
    "#Problem : Bir işyeri ilan sitesiyiz. Bu ilan sitesinde bazı ilan girişleri gerçekleştiriliyor.\n",
    "# Gerçekleştirilen ilan girişleri neticesinde bazı hatalı işlemler olusuyor. \n",
    "#Örneğin makine sebebiyle, personel sebebiyle oluşuyor. İyileştirme yapmak isteniliyor..\n",
    "#ne kadar hata olabilevrğini, hata olasılıkları bilinmiyor..\n",
    "#Hatalı ilan girişi olasılıkları hesaplanmak isteniyor."
   ]
  },
  {
   "cell_type": "code",
   "execution_count": 4,
   "id": "3e247ef6-3d4e-4229-9b6c-d29b47167130",
   "metadata": {},
   "outputs": [],
   "source": [
    "#Detaylar : \n",
    "# Bir yıl süresince ölçümler yapılıyor.\n",
    "# Dağılım biliniyor (Poisson) ve Lambda 0.1 (ortalama hata sayısı)\n",
    "# Hiç hata olmaması, 3 hata olması ve 5 hata olması olasılıkları nedir?"
   ]
  },
  {
   "cell_type": "code",
   "execution_count": 5,
   "id": "cc6c1d4c-9ec6-4aad-b2ee-c559c9dc52e2",
   "metadata": {},
   "outputs": [],
   "source": [
    "#f(0; 0.1) = 0.9048374180\n",
    "#f(3; 0.1) = 0.0001508062\n",
    "#f(5; 0.1) = 0.0000000754"
   ]
  },
  {
   "cell_type": "code",
   "execution_count": 6,
   "id": "4499e8bc-0158-490c-8c94-5bb2475518ae",
   "metadata": {},
   "outputs": [],
   "source": [
    "# Poisson Dağılımı"
   ]
  },
  {
   "cell_type": "code",
   "execution_count": 7,
   "id": "fa07086e-8df5-40d2-8753-04462a247ed5",
   "metadata": {},
   "outputs": [],
   "source": [
    "from scipy.stats import poisson"
   ]
  },
  {
   "cell_type": "code",
   "execution_count": 8,
   "id": "b75679dd-e037-4627-b7c4-f3a1585e8f1f",
   "metadata": {},
   "outputs": [],
   "source": [
    "lambda_ = 0.01"
   ]
  },
  {
   "cell_type": "code",
   "execution_count": 9,
   "id": "d663bc96-181a-4b09-91b8-4739339382fc",
   "metadata": {},
   "outputs": [
    {
     "name": "stdout",
     "output_type": "stream",
     "text": [
      "0.9900498337491681\n"
     ]
    }
   ],
   "source": [
    "rv= poisson(mu = lambda_)\n",
    "print(rv.pmf( k = 0 ))"
   ]
  },
  {
   "cell_type": "code",
   "execution_count": 10,
   "id": "921c4200-d3f1-4f12-9ad6-15866b662c64",
   "metadata": {},
   "outputs": [
    {
     "name": "stdout",
     "output_type": "stream",
     "text": [
      "1.6500830562486154e-07\n"
     ]
    }
   ],
   "source": [
    "print(rv.pmf( k = 3 ))"
   ]
  },
  {
   "cell_type": "code",
   "execution_count": 11,
   "id": "789e8e85-ffa4-4fef-81f0-4df21d435e50",
   "metadata": {},
   "outputs": [
    {
     "name": "stdout",
     "output_type": "stream",
     "text": [
      "8.250415281243089e-13\n"
     ]
    }
   ],
   "source": [
    "print(rv.pmf( k = 5 ))"
   ]
  },
  {
   "cell_type": "code",
   "execution_count": null,
   "id": "7ef1958e-1018-4dc6-a6bf-e660b9052cee",
   "metadata": {},
   "outputs": [],
   "source": []
  },
  {
   "cell_type": "code",
   "execution_count": null,
   "id": "33842e80-af27-423f-bfcd-afa051d8a997",
   "metadata": {},
   "outputs": [],
   "source": []
  },
  {
   "cell_type": "code",
   "execution_count": null,
   "id": "bd438c57-f539-4711-9558-61b4f2281411",
   "metadata": {},
   "outputs": [],
   "source": []
  },
  {
   "cell_type": "code",
   "execution_count": null,
   "id": "4493204a-972f-44ed-8e9e-ecbc64170e6e",
   "metadata": {},
   "outputs": [],
   "source": []
  },
  {
   "cell_type": "code",
   "execution_count": null,
   "id": "7031efbf-3bd2-4269-80c8-4e5a0842362d",
   "metadata": {},
   "outputs": [],
   "source": []
  },
  {
   "cell_type": "code",
   "execution_count": null,
   "id": "373d3165-668a-4384-b517-9f5514473ddf",
   "metadata": {},
   "outputs": [],
   "source": []
  },
  {
   "cell_type": "code",
   "execution_count": null,
   "id": "9723f641-408e-4444-b8c1-af7aee00ebbc",
   "metadata": {},
   "outputs": [],
   "source": []
  },
  {
   "cell_type": "code",
   "execution_count": null,
   "id": "99d4aaff-68bb-49f8-9359-20c19bbc9ed2",
   "metadata": {},
   "outputs": [],
   "source": []
  }
 ],
 "metadata": {
  "kernelspec": {
   "display_name": "Python 3 (ipykernel)",
   "language": "python",
   "name": "python3"
  },
  "language_info": {
   "codemirror_mode": {
    "name": "ipython",
    "version": 3
   },
   "file_extension": ".py",
   "mimetype": "text/x-python",
   "name": "python",
   "nbconvert_exporter": "python",
   "pygments_lexer": "ipython3",
   "version": "3.9.13"
  }
 },
 "nbformat": 4,
 "nbformat_minor": 5
}
